{
 "cells": [
  {
   "cell_type": "code",
   "execution_count": 14,
   "metadata": {},
   "outputs": [],
   "source": [
    "import numpy as np\n",
    "from matplotlib import pyplot as plt\n",
    "\n",
    "def V(x):\n",
    "    return x * 0\n",
    "\n",
    "def density(psi):\n",
    "    return psi * np.conj(psi)\n",
    "\n",
    "def gen_gaussian(x,x0,sigma, p0):\n",
    "    A = (1 / (2 * np.pi * sigma**2))**(0.25)\n",
    "    B = np.exp((-(x-x0)**2) / ((4 * sigma)**2))\n",
    "    C = np.exp(1j*p0*x)\n",
    "    return A * B * C\n",
    "\n",
    "def normal(x,x0,sigma, p0):\n",
    "    A = (1 / (2 * np.pi * sigma**2))**(0.25)\n",
    "    B = np.exp((-(x-x0)**2) / ((4 * sigma)**2))\n",
    "    C = np.exp(1j*p0*x)\n",
    "    return A * B * C\n",
    "\n",
    "def get_psi(psi,V):\n",
    "    psi_next = np.zeros(N,dtype='cfloat')\n",
    "    for i in range(1,len(psi)-1):\n",
    "        # print(f'{psi[i]},{1j/2 * dt/dx**2 * (psi[i+1] - 2*psi[i] + psi[i-1])},{1j*dt*V(psi[i])*psi[i]}')\n",
    "        psi_next[i] = psi[i] + (1j/2 * dt/dx**2 * (psi[i+1] - 2*psi[i] + psi[i-1])) - (1j*dt*V[i]*psi[i]) \n",
    "    return psi_next"
   ]
  },
  {
   "cell_type": "code",
   "execution_count": 20,
   "metadata": {},
   "outputs": [],
   "source": [
    "N=300\n",
    "x,dx = np.linspace(-30,30, N , retstep= True)\n",
    "x.astype(complex)\n",
    "dt = 1e-7\n",
    "\n",
    "psi0 = gen_gaussian(x,x0 = 0 ,sigma= 2,p0=2)\n",
    "psi1 = normal(x,x0 = 0 ,sigma= 2,p0= 0 )\n",
    "\n",
    "psi00 = psi0.copy()\n",
    "psi11 = psi1.copy()\n",
    "\n",
    "for _ in range(10):\n",
    "    psi00 = get_psi(psi00,V(x))\n",
    "    psi11 = get_psi(psi11,V(x))\n",
    "\n",
    "a = np.vstack((psi00,psi11))\n",
    "\n"
   ]
  },
  {
   "cell_type": "code",
   "execution_count": 26,
   "metadata": {},
   "outputs": [
    {
     "name": "stdout",
     "output_type": "stream",
     "text": [
      "[ 2  3  4  5  6  7  8  9 10]\n"
     ]
    }
   ],
   "source": [
    "\n",
    "# print(psi00 - psi11)\n",
    "\n",
    "\n",
    "# print(density(psi0) - density(psi1) < 1e-7)\n",
    "\n",
    "# plt.plot(x,density(psi0) , 'r')\n",
    "# plt.plot(x,psi0.real , 'g')\n",
    "# plt.plot(x,psi0.imag , 'b')\n",
    "# plt.show()\n",
    "# plt.plot(x,density(psi1))\n",
    "# plt.plot(x,psi1.real ,)\n",
    "# plt.plot(x,psi1.imag ,)\n",
    "# plt.show()\n",
    "\n",
    "# alist = np.array([1,2,3,4,5,6,7,8,9])\n",
    "# blist = np.array([2,3,4,5,6,7,8,9,10])\n",
    "# ablist = np.vstack((alist,blist))\n",
    "# print(ablist[1,:])\n",
    "\n",
    "\n"
   ]
  },
  {
   "cell_type": "code",
   "execution_count": null,
   "metadata": {},
   "outputs": [],
   "source": []
  }
 ],
 "metadata": {
  "kernelspec": {
   "display_name": "Python 3",
   "language": "python",
   "name": "python3"
  },
  "language_info": {
   "codemirror_mode": {
    "name": "ipython",
    "version": 3
   },
   "file_extension": ".py",
   "mimetype": "text/x-python",
   "name": "python",
   "nbconvert_exporter": "python",
   "pygments_lexer": "ipython3",
   "version": "3.8.10"
  },
  "orig_nbformat": 4
 },
 "nbformat": 4,
 "nbformat_minor": 2
}
