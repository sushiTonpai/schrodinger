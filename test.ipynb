{
 "cells": [
  {
   "cell_type": "code",
   "execution_count": 14,
   "metadata": {},
   "outputs": [],
   "source": [
    "import numpy as np\n",
    "from matplotlib import pyplot as plt\n",
    "\n",
    "def V(x):\n",
    "    return x * 0\n",
    "\n",
    "def density(psi):\n",
    "    return psi * np.conj(psi)\n",
    "\n",
    "def gen_gaussian(x,x0,sigma, p0):\n",
    "    A = (1 / (2 * np.pi * sigma**2))**(0.25)\n",
    "    B = np.exp((-(x-x0)**2) / ((4 * sigma)**2))\n",
    "    C = np.exp(1j*p0*x)\n",
    "    return A * B * C\n",
    "\n",
    "def normal(x,x0,sigma, p0):\n",
    "    A = (1 / (2 * np.pi * sigma**2))**(0.25)\n",
    "    B = np.exp((-(x-x0)**2) / ((4 * sigma)**2))\n",
    "    C = np.exp(1j*p0*x)\n",
    "    return A * B * C\n",
    "\n",
    "def get_psi(psi,V):\n",
    "    psi_next = np.zeros(N,dtype='cfloat')\n",
    "    for i in range(1,len(psi)-1):\n",
    "        # print(f'{psi[i]},{1j/2 * dt/dx**2 * (psi[i+1] - 2*psi[i] + psi[i-1])},{1j*dt*V(psi[i])*psi[i]}')\n",
    "        psi_next[i] = psi[i] + (1j/2 * dt/dx**2 * (psi[i+1] - 2*psi[i] + psi[i-1])) - (1j*dt*V[i]*psi[i]) \n",
    "    return psi_next"
   ]
  },
  {
   "cell_type": "code",
   "execution_count": 20,
   "metadata": {},
   "outputs": [],
   "source": [
    "N=300\n",
    "x,dx = np.linspace(-30,30, N , retstep= True)\n",
    "x.astype(complex)\n",
    "dt = 1e-7\n",
    "\n",
    "psi0 = gen_gaussian(x,x0 = 0 ,sigma= 2,p0=2)\n",
    "psi1 = normal(x,x0 = 0 ,sigma= 2,p0= 0 )\n",
    "\n",
    "psi00 = psi0.copy()\n",
    "psi11 = psi1.copy()\n",
    "\n",
    "for _ in range(10):\n",
    "    psi00 = get_psi(psi00,V(x))\n",
    "    psi11 = get_psi(psi11,V(x))\n",
    "\n",
    "a = np.vstack((psi00,psi11))\n",
    "\n"
   ]
  },
  {
   "cell_type": "code",
   "execution_count": 27,
   "metadata": {},
   "outputs": [],
   "source": [
    "\n",
    "# print(psi00 - psi11)\n",
    "\n",
    "\n",
    "# print(density(psi0) - density(psi1) < 1e-7)\n",
    "\n",
    "# plt.plot(x,density(psi0) , 'r')\n",
    "# plt.plot(x,psi0.real , 'g')\n",
    "# plt.plot(x,psi0.imag , 'b')\n",
    "# plt.show()\n",
    "# plt.plot(x,density(psi1))\n",
    "# plt.plot(x,psi1.real ,)\n",
    "# plt.plot(x,psi1.imag ,)\n",
    "# plt.show()\n",
    "\n",
    "alist = np.array([1,2,3,4,5,6,7,8,9])\n",
    "# blist = np.array([2,3,4,5,6,7,8,9,10])\n",
    "# ablist = np.vstack((alist,blist))\n",
    "# print(ablist[1,:])\n",
    "\n",
    "\n"
   ]
  },
  {
   "cell_type": "code",
   "execution_count": 42,
   "metadata": {},
   "outputs": [
    {
     "data": {
      "text/plain": [
       "0.0"
      ]
     },
     "execution_count": 42,
     "metadata": {},
     "output_type": "execute_result"
    }
   ],
   "source": [
    "import numpy as np\n",
    "import matplotlib.pyplot as plt\n",
    "from matplotlib import animation\n",
    "from matplotlib.animation import PillowWriter\n",
    "import numba\n",
    "from numba import jit\n",
    "from scipy.linalg import eigh_tridiagonal\n",
    "\n",
    "\n",
    "Nx = 301\n",
    "Nt = 5000\n",
    "dx = 1/(Nx-1)\n",
    "dt=1e-7\n",
    "x = np.linspace(0, 1, Nx)\n",
    "\n",
    "psi0 = np.sqrt(2)*np.sin(np.pi*x)\n",
    "# psi0 = gen_gaussian(x,x0 = 0 ,sigma= 2,p0=2)\n",
    "mu, sigma = 1/2, 1/20\n",
    "V = -1e4*np.exp(-(x-mu)**2/(2*sigma**2))\n",
    "\n",
    "psi = np.zeros([Nt,Nx],dtype= 'cfloat')\n",
    "psi[0] = psi0\n",
    "\n",
    "\n",
    "@numba.jit(\"c16[:,:](c16[:,:])\", nopython=True, nogil=True)\n",
    "def compute_psi(psi):\n",
    "    for t in range(0, Nt-1):\n",
    "        for i in range(1, Nx-1):\n",
    "            psi[t+1][i] = psi[t][i] + 1j/2 * dt/dx**2 * (psi[t][i+1] - 2*psi[t][i] + psi[t][i-1]) - 1j*dt*V[i]*psi[t][i]\n",
    "        \n",
    "        normal = np.sum(np.absolute(psi[t+1])**2)*dx\n",
    "        for i in range(1, Nx-1):\n",
    "            psi[t+1][i] = psi[t+1][i]/normal\n",
    "        \n",
    "    return psi\n",
    "\n",
    "psi_m1 = compute_psi(psi.astype(complex))\n",
    "# plt.plot(x, np.abs(psi_m1[4000])**2) \n",
    "plt.plot(x, density(psi[0]))\n",
    "plt.plot(x, density(psi_m1[0]))\n",
    "plt.plot(x, density(psi_m1[4000]))\n",
    "plt.show()\n",
    "plt.plot(x, V)"
   ]
  },
  {
   "cell_type": "code",
   "execution_count": 35,
   "metadata": {},
   "outputs": [
    {
     "data": {
      "image/png": "[encoded data removed]",
      "text/plain": [
       "<Figure size 540x252 with 1 Axes>"
      ]
     },
     "metadata": {
      "needs_background": "light"
     },
     "output_type": "display_data"
    }
   ],
   "source": [
    "import os\n",
    "from matplotlib import pyplot as plt, animation\n",
    "plt.rcParams[\"figure.figsize\"] = [7.50, 3.50]\n",
    "plt.rcParams[\"figure.autolayout\"] = True\n",
    "fig, ax = plt.subplots()\n",
    "ax.set(xlim=(-1, 1), ylim=(-1, 1))\n",
    "string = 'Hello, how are you doing?'\n",
    "label = ax.text(0, 0, string[0], ha='center', va='center', fontsize=20, color=\"Red\")\n",
    "\n",
    "def animate(i):\n",
    "   label.set_text(string[:i + 1]) \n",
    "\n",
    "anim = animation.FuncAnimation(\n",
    "   fig, animate, interval=200, frames=len(string))\n",
    "ax.axis('off')\n",
    "\n",
    "file_format = 'gif'\n",
    "file_name = 'test1'\n",
    "\n",
    "directory = '/Users/Admin/Desktop/senior/animation'\n",
    "output_file = os.path.join(directory, f'{file_name}.{file_format}')\n",
    "\n",
    "anim.save(output_file, writer='pillow', fps=15)\n",
    "plt.show()"
   ]
  }
 ],
 "metadata": {
  "kernelspec": {
   "display_name": "Python 3",
   "language": "python",
   "name": "python3"
  },
  "language_info": {
   "codemirror_mode": {
    "name": "ipython",
    "version": 3
   },
   "file_extension": ".py",
   "mimetype": "text/x-python",
   "name": "python",
   "nbconvert_exporter": "python",
   "pygments_lexer": "ipython3",
   "version": "3.8.10"
  },
  "orig_nbformat": 4
 },
 "nbformat": 4,
 "nbformat_minor": 2
}
