{
 "cells": [
  {
   "cell_type": "markdown",
   "metadata": {},
   "source": [
    "## Crank-Nicosol method on schrodinger equation"
   ]
  },
  {
   "cell_type": "code",
   "execution_count": 15,
   "metadata": {},
   "outputs": [],
   "source": [
    "import numpy as np\n",
    "from matplotlib import pyplot as plt\n",
    "from scipy import integrate\n",
    "from scipy import sparse\n",
    "from scipy.sparse.linalg import eigsh\n",
    "from scipy.sparse.linalg import eigs\n",
    "\n"
   ]
  },
  {
   "cell_type": "code",
   "execution_count": 16,
   "metadata": {},
   "outputs": [],
   "source": [
    "# system parameters \n",
    "N = 101\n",
    "# positive length\n",
    "L = 10\n",
    "# grid\n",
    "x,dx = np.linspace(0,L, N , retstep= True)\n",
    "# time parameters\n",
    "T = 0.0001\n",
    "Nt = 10000\n",
    "dt = 1e-5"
   ]
  },
  {
   "cell_type": "code",
   "execution_count": 17,
   "metadata": {},
   "outputs": [],
   "source": [
    "# defining alpha\n",
    "alpha = (1j * dt) / (4 * (dx**2))\n",
    "\n",
    "# defining diagonal a and b\n",
    "a = (1 + (2 * alpha))\n",
    "b = (1 - (2 * alpha))\n",
    "\n",
    "\n",
    "# constant matrix :-> MA, MM\n",
    "def constant_matrix(V):\n",
    "    dia = np.ones([N])\n",
    "    dia_A = np.array([dia * -alpha , dia *a, dia * -alpha])\n",
    "    V0= sparse.diags(-1j * dt *V)\n",
    "    dia_M = np.array([dia * alpha , dia * b , dia * alpha])\n",
    "    MA = sparse.spdiags(dia_A,np.array([-1,0,1]),N,N)\n",
    "    MM = sparse.spdiags(dia_M,np.array([-1,0,1]),N,N)  + V0\n",
    "    return MA ,MM\n",
    "\n"
   ]
  },
  {
   "cell_type": "code",
   "execution_count": 18,
   "metadata": {},
   "outputs": [],
   "source": [
    "def CMN(psi0,V):\n",
    "    psi = np.zeros([Nt,N]).astype(complex)\n",
    "    psi[0] = psi0\n",
    "    MA , MM = constant_matrix(V)\n",
    "    t = 0 \n",
    "    y = psi0.copy()\n",
    "    while t < Nt-1:\n",
    "        MM = sparse.csr_matrix.dot(MM, y)\n",
    "        psi_next = sparse.linalg.spsolve(MA, MM)\n",
    "        psi[t+1] = psi_next\n",
    "        y = psi_next\n",
    "        t += 1    \n",
    "    return psi"
   ]
  },
  {
   "cell_type": "code",
   "execution_count": null,
   "metadata": {},
   "outputs": [],
   "source": []
  }
 ],
 "metadata": {
  "kernelspec": {
   "display_name": "Python 3",
   "language": "python",
   "name": "python3"
  },
  "language_info": {
   "codemirror_mode": {
    "name": "ipython",
    "version": 3
   },
   "file_extension": ".py",
   "mimetype": "text/x-python",
   "name": "python",
   "nbconvert_exporter": "python",
   "pygments_lexer": "ipython3",
   "version": "3.9.13"
  }
 },
 "nbformat": 4,
 "nbformat_minor": 2
}
