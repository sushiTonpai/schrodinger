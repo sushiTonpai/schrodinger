{
 "cells": [
  {
   "attachments": {},
   "cell_type": "markdown",
   "metadata": {},
   "source": [
    "### TDSE: Time Dependent Schrodinger Equation 1D\n",
    "$$\n",
    "i\\hbar \\frac{d \\psi (x,t)}{dt} = \\frac{-\\hbar^2}{2m} \\frac{\\partial^2 \\psi (x,t)}{\\partial x} + V(x,t) \\psi (x,t)\n",
    "\\\\\n",
    "i\\frac{\\partial \\psi}{\\partial t'} = -\\frac{1}{2}\\frac{\\partial^2 \\psi}{\\partial x'^2 } + V'(x)\\psi\n",
    "$$\n",
    "#### Formal solution to the Schrodinger Equation\n",
    "$$\n",
    "\\psi(r,t + \\Delta t) = exp(-i\\hat{H} \\Delta t) \\psi(r,t)\n",
    "\\\\\n",
    "\\ket{\\psi(r, \\Delta t)} = U(\\Delta t)\\ket{\\psi(r, t)}\n",
    "$$\n",
    "$exp(-i\\hat{H} \\Delta t)$ is unitary operator $U(t)$\n",
    "\n"
   ]
  },
  {
   "cell_type": "code",
   "execution_count": null,
   "metadata": {},
   "outputs": [],
   "source": []
  }
 ],
 "metadata": {
  "kernelspec": {
   "display_name": "Python 3",
   "language": "python",
   "name": "python3"
  },
  "language_info": {
   "name": "python",
   "version": "3.8.10"
  },
  "orig_nbformat": 4
 },
 "nbformat": 4,
 "nbformat_minor": 2
}
