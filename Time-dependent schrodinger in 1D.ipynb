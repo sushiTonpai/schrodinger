{
 "cells": [
  {
   "attachments": {},
   "cell_type": "markdown",
   "metadata": {},
   "source": [
    "### TDSE: Time Dependent Schrodinger Equation 1D\n",
    "$$\n",
    "i\\hbar \\frac{d \\psi (x,t)}{dt} = \\frac{-\\hbar^2}{2m} \\frac{\\partial^2 \\psi (x,t)}{\\partial x} + V(x,t) \\psi (x,t)\n",
    "\\\\\n",
    "i\\frac{\\partial \\psi}{\\partial t'} = -\\frac{1}{2}\\frac{\\partial^2 \\psi}{\\partial x'^2 } + V'(x)\\psi\n",
    "$$\n",
    "#### Finite diferenece\n",
    "$$\n",
    "i\\frac{\\psi^{m+1}_{j} + \\psi^{m}_{j}}{\\Delta t} = -\\frac{1}{2} \\frac{\\psi^{m}_{j+1} -2\\psi^{m}_{j} + \\psi^{m}_{j-1}}{\\Delta x ^2} + V(x)\\psi^{m}_{j} \n",
    "$$\n",
    "$\\psi$ of next time step at the position $j$\n",
    "$$\n",
    "\\psi^{m+1}_{j} = \\psi^{m}_{j} + \\frac{i\\Delta t}{2\\Delta x^2}[\\psi^{m}_{j+1} -2\\psi^{m}_{j} + \\psi^{m}_{j-1}] -i\\Delta t V(x) \\psi^{m}_{j} \n",
    "$$"
   ]
  },
  {
   "attachments": {},
   "cell_type": "markdown",
   "metadata": {},
   "source": [
    "## Gauusian wave packets equation\n",
    "$\\hbar$ and $m = 1$\n",
    "$$\n",
    "\\psi_x(x,t = 0) = \\left(\\frac{1}{2\\pi\\sigma^2_x}\\right)^\\frac{1}{4} exp(ip_0x -\\frac{(x-x_0)^2}{4\\sigma^2_x})\n",
    "$$"
   ]
  },
  {
   "attachments": {},
   "cell_type": "markdown",
   "metadata": {},
   "source": [
    "## Position, Momentum and Energy\n",
    "### Operators\n",
    "$$\n",
    "\\braket{o} = \\int{}{} \\psi^* o \\psi dx \n",
    "$$\n",
    "position\n",
    "$$\n",
    "\\hat{x} = x\n",
    "$$\n",
    "linear momentum\n",
    "$$\n",
    "\\hat{p} = -i\\hbar\\frac{\\partial}{\\partial x}\n",
    "$$\n",
    "Energy\n",
    "$$\n",
    "\\hat{H} = -\\frac{\\hbar^2}{2m} \\frac{\\partial^2}{\\partial x^2} + V(x)\n",
    "$$\n"
   ]
  },
  {
   "cell_type": "code",
   "execution_count": 3,
   "metadata": {},
   "outputs": [],
   "source": [
    "# requirements and imports\n",
    "import numpy as np\n",
    "from matplotlib import pyplot as plt\n",
    "import scipy\n"
   ]
  },
  {
   "cell_type": "code",
   "execution_count": 4,
   "metadata": {},
   "outputs": [],
   "source": [
    "# System parameters \n",
    "N = 101\n",
    "# positive length\n",
    "L = 5\n",
    "# grid\n",
    "x,dx = np.linspace(-L,L, N , retstep= True)\n",
    "# time parameters\n",
    "T = 0.0001\n",
    "Nt = 10000\n",
    "dt = 1e-4"
   ]
  },
  {
   "cell_type": "code",
   "execution_count": 5,
   "metadata": {},
   "outputs": [],
   "source": [
    "# gaussain wave package generator\n",
    "def gen_gaussian(x,x0,sigma, p0):\n",
    "    A = (1 / (2 * np.pi * sigma**2))**(0.25)\n",
    "    B = np.exp((-(x-x0)**2) / ((4 * sigma)**2))\n",
    "    C = np.exp(1j*p0*x)\n",
    "    return A * B * C\n",
    "\n",
    "# sine wave solution generator\n",
    "def gen_sine(x):\n",
    "    A = np.sqrt(2/(2*L))\n",
    "    k = np.pi/(2*L)\n",
    "    return A * np.sin(k*x)\n",
    "\n",
    "# potential\n",
    "def V_2(x):\n",
    "    return 1/2 * x \n",
    "\n",
    "def V_free_particle(x):\n",
    "    return x * 0 \n",
    "\n",
    "def V_well(x):\n",
    "    mu ,sigma = 1/2 , 1/5\n",
    "    A = -1e2\n",
    "    return A*np.exp(-(x-mu)**2/(2*sigma**2))\n",
    "\n",
    "def V_harmonic(x):\n",
    "    k = 2\n",
    "    x0 = 2\n",
    "    return 1/2 * k * (x-x0)**2  -1\n",
    "\n",
    "def V_barrier(x,peak):\n",
    "    arr = x.copy()\n",
    "    arr[:] = 0 \n",
    "    left = int(len(x) * 1/2)\n",
    "    right = int(len(x) * (1/2 + 1/100)) \n",
    "    arr[left:right]  = peak\n",
    "    return arr\n",
    "\n",
    "def step(x,peak = 50):\n",
    "    arr = x.copy()\n",
    "    arr[:] = 0 \n",
    "    left = int(len(x) * 1/2)\n",
    "    arr[left:]  = peak\n",
    "    return arr\n",
    "\n",
    "# position operator\n",
    "def get_position(psi):\n",
    "    op_x = np.conj(psi) * x * psi\n",
    "    return scipy.integrate.simps(op_x,x)\n",
    "\n",
    "# momentum operator\n",
    "def get_momentum(psi):\n",
    "    op_p = np.conju(psi) * 1j * np.gradient(psi,1)\n",
    "    return  scipy.integrate.simps(op_p,x)\n",
    "\n",
    "# Energy operator\n",
    "def get_ke(psi):\n",
    "    op_ke = np.conj(psi) * (-0.5) * np.gradient(psi,2)  \n",
    "    return scipy.integrate.simps(op_ke,x)\n",
    "def get_pe(psi,V):\n",
    "    op_pe = np.conj(psi) * V * psi\n",
    "    return scipy.integrate.simps(op_pe,x)\n",
    "\n",
    "# probability density\n",
    "def density(psi):\n",
    "    return psi * np.conj(psi)\n",
    "\n",
    "#normalize wave function\n",
    "def normalize(psi, x):\n",
    "    sum_psi_sq = scipy.integrate.simps(abs(psi)**2 , x)\n",
    "    return 1/np.sqrt(sum_psi_sq)\n",
    "\n",
    "# compute psi[t+1] and normalise\n",
    "def get_psi(psi,V):\n",
    "    psi_next = np.zeros(N,dtype='cfloat')\n",
    "    for i in range(1,len(psi)-1):\n",
    "        # print(f'{psi[i]},{1j/2 * dt/dx**2 * (psi[i+1] - 2*psi[i] + psi[i-1])},{1j*dt*V(psi[i])*psi[i]}')\n",
    "        psi_next[i] = psi[i] + (1j/2 * dt/dx**2 * (psi[i+1] - 2*psi[i] + psi[i-1])) - (1j*dt*V[i]*psi[i])\n",
    "    A = normalize(psi_next,x)\n",
    "    psi_next = A * psi_next \n",
    "    return psi_next\n",
    "\n",
    "# stack all psi[t] into big matrix\n",
    "def simulation(psi,V):\n",
    "    t = 0\n",
    "    psi_tot = psi.copy()\n",
    "    while t < Nt:\n",
    "        psi = get_psi(psi,V)\n",
    "        psi_tot = np.vstack((psi_tot,psi))\n",
    "        # t = t + dt\n",
    "        t = t + 1 \n",
    "\n",
    "    return psi_tot\n",
    "\n",
    "\n"
   ]
  },
  {
   "cell_type": "code",
   "execution_count": null,
   "metadata": {},
   "outputs": [],
   "source": []
  },
  {
   "cell_type": "code",
   "execution_count": 15,
   "metadata": {},
   "outputs": [],
   "source": [
    "# psi0 as gaussian\n",
    "psi = gen_gaussian(x, x0 = -2 , sigma = 1/5 , p0 = 20)\n",
    "psi = normalize(psi,x) * psi\n",
    "\n",
    "# psi0\n",
    "# psi = gen_sine(x)\n",
    "\n",
    "V0 = V_free_particle(x)\n",
    "psi_m00 = simulation(psi.astype(complex),V0)\n",
    "\n"
   ]
  },
  {
   "cell_type": "code",
   "execution_count": 7,
   "metadata": {},
   "outputs": [
    {
     "name": "stderr",
     "output_type": "stream",
     "text": [
      "C:\\Users\\Admin\\AppData\\Local\\Packages\\PythonSoftwareFoundation.Python.3.8_qbz5n2kfra8p0\\LocalCache\\local-packages\\Python38\\site-packages\\matplotlib\\cbook\\__init__.py:1317: ComplexWarning: Casting complex values to real discards the imaginary part\n",
      "  return np.asarray(x, float)\n"
     ]
    },
    {
     "data": {
      "image/png": "[encoded data removed]",
      "text/plain": [
       "<Figure size 432x288 with 1 Axes>"
      ]
     },
     "metadata": {
      "needs_background": "light"
     },
     "output_type": "display_data"
    },
    {
     "name": "stdout",
     "output_type": "stream",
     "text": [
      "0.001 0.014142135623730952\n"
     ]
    }
   ],
   "source": [
    "plt.plot(x,density(psi), color = 'r')\n",
    "plt.plot(x,psi.real)\n",
    "plt.plot(x,psi.imag,'--')\n",
    "plt.plot(x,V0,color = 'Black')\n",
    "# plt.ylim(-1,1)\n",
    "# plt.plot(x,density(get_psi(psi)))\n",
    "plt.show()\n",
    "# plt.plot(V0)\n",
    "\n",
    "print(dt/dx , 1/100 * np.sqrt(2))\n"
   ]
  },
  {
   "cell_type": "code",
   "execution_count": 8,
   "metadata": {},
   "outputs": [
    {
     "name": "stderr",
     "output_type": "stream",
     "text": [
      "C:\\Users\\Admin\\AppData\\Local\\Packages\\PythonSoftwareFoundation.Python.3.8_qbz5n2kfra8p0\\LocalCache\\local-packages\\Python38\\site-packages\\matplotlib\\cbook\\__init__.py:1317: ComplexWarning: Casting complex values to real discards the imaginary part\n",
      "  return np.asarray(x, float)\n",
      "C:\\Users\\Admin\\AppData\\Local\\Packages\\PythonSoftwareFoundation.Python.3.8_qbz5n2kfra8p0\\LocalCache\\local-packages\\Python38\\site-packages\\matplotlib\\cbook\\__init__.py:1317: ComplexWarning: Casting complex values to real discards the imaginary part\n",
      "  return np.asarray(x, float)\n"
     ]
    },
    {
     "data": {
      "text/plain": [
       "(10001, 101)"
      ]
     },
     "execution_count": 8,
     "metadata": {},
     "output_type": "execute_result"
    },
    {
     "data": {
      "image/png": "[encoded data removed]",
      "text/plain": [
       "<Figure size 432x288 with 1 Axes>"
      ]
     },
     "metadata": {
      "needs_background": "light"
     },
     "output_type": "display_data"
    }
   ],
   "source": [
    "plt.plot(x,density(psi_m00[0]) , 'r')\n",
    "plt.plot(x,density(psi_m00[-1]))\n",
    "# plt.plot(x,psi_m00.real[-1])\n",
    "# plt.plot(x,psi_m00[0])\n",
    "# plt.plot(x,psi_m00[-1])\n",
    "\n",
    "# t1  = 1j * (psi_m00[0] + psi_m00[1]) / dt \n",
    "# t2 =  -1/2 * ( psi_m00[1] - 2*psi_m00[0]) / dx**2\n",
    "\n",
    "# t1-t2 < 1e-4\n",
    "\n",
    "psi_m00.dtype\n",
    "psi_m00.shape"
   ]
  },
  {
   "cell_type": "code",
   "execution_count": null,
   "metadata": {},
   "outputs": [],
   "source": [
    "import numpy as np\n",
    "import matplotlib.pyplot as plt\n",
    "from matplotlib import animation\n",
    "from matplotlib.animation import PillowWriter\n",
    "import numba\n",
    "from numba import jit\n",
    "from scipy.linalg import eigh_tridiagonal\n",
    "\n",
    "\n",
    "Nx = 301\n",
    "Nt = 5000\n",
    "dx = 1/(Nx-1)\n",
    "dt=1e-7\n",
    "x = np.linspace(0, 1, Nx)\n",
    "\n",
    "psi0 = np.sqrt(2)*np.sin(np.pi*x)\n",
    "# psi0 = gen_gaussian(x,x0 = 0 ,sigma= 2,p0=2)\n",
    "mu, sigma = 1/2, 1/20\n",
    "V = -1e4*np.exp(-(x-mu)**2/(2*sigma**2))\n",
    "\n",
    "psi = np.zeros([Nt,Nx],dtype= 'cfloat')\n",
    "psi[0] = psi0\n",
    "\n",
    "\n",
    "@numba.jit(\"c16[:,:](c16[:,:])\", nopython=True, nogil=True)\n",
    "def compute_psi(psi):\n",
    "    for t in range(0, Nt-1):\n",
    "        for i in range(1, Nx-1):\n",
    "            psi[t+1][i] = psi[t][i] + 1j/2 * dt/dx**2 * (psi[t][i+1] - 2*psi[t][i] + psi[t][i-1]) - 1j*dt*V[i]*psi[t][i]\n",
    "        \n",
    "        normal = np.sum(np.absolute(psi[t+1])**2)*dx\n",
    "        for i in range(1, Nx-1):\n",
    "            psi[t+1][i] = psi[t+1][i]/normal\n",
    "        \n",
    "    return psi\n",
    "\n",
    "psi_m1 = compute_psi(psi.astype(complex))\n",
    "# plt.plot(x, np.abs(psi_m1[4000])**2) \n",
    "plt.plot(x, density(psi[0]))\n",
    "plt.plot(x, density(psi_m1[0]))\n",
    "plt.plot(x, density(psi_m1[4000]))\n",
    "plt.show()\n",
    "plt.plot(x, V)"
   ]
  },
  {
   "cell_type": "code",
   "execution_count": null,
   "metadata": {},
   "outputs": [],
   "source": []
  },
  {
   "cell_type": "code",
   "execution_count": 16,
   "metadata": {},
   "outputs": [
    {
     "name": "stderr",
     "output_type": "stream",
     "text": [
      "C:\\Users\\Admin\\AppData\\Local\\Packages\\PythonSoftwareFoundation.Python.3.8_qbz5n2kfra8p0\\LocalCache\\local-packages\\Python38\\site-packages\\matplotlib\\cbook\\__init__.py:1317: ComplexWarning: Casting complex values to real discards the imaginary part\n",
      "  return np.asarray(x, float)\n",
      "C:\\Users\\Admin\\AppData\\Local\\Temp/ipykernel_22916/3380050368.py:10: DeprecationWarning: The Python built-in `round` is deprecated for complex scalars, and will raise a `TypeError` in a future release. Use `np.round` or `scalar.round` instead.\n",
      "  txt = ax.text(-5.0 , 0.9 ,f'position <x> {round(get_position(psi_m00[0,:]),3).real} ', ha='left', va='center', fontsize=12, color=\"black\")\n",
      "C:\\Users\\Admin\\AppData\\Local\\Temp/ipykernel_22916/3380050368.py:16: DeprecationWarning: The Python built-in `round` is deprecated for complex scalars, and will raise a `TypeError` in a future release. Use `np.round` or `scalar.round` instead.\n",
      "  txt.set_text(f'position <x> {round(get_position(psi_m00[50 * frame,:]),3).real}')\n",
      "C:\\Users\\Admin\\AppData\\Local\\Temp/ipykernel_22916/3380050368.py:16: DeprecationWarning: The Python built-in `round` is deprecated for complex scalars, and will raise a `TypeError` in a future release. Use `np.round` or `scalar.round` instead.\n",
      "  txt.set_text(f'position <x> {round(get_position(psi_m00[50 * frame,:]),3).real}')\n",
      "C:\\Users\\Admin\\AppData\\Local\\Packages\\PythonSoftwareFoundation.Python.3.8_qbz5n2kfra8p0\\LocalCache\\local-packages\\Python38\\site-packages\\matplotlib\\cbook\\__init__.py:1317: ComplexWarning: Casting complex values to real discards the imaginary part\n",
      "  return np.asarray(x, float)\n"
     ]
    },
    {
     "data": {
      "image/png": "[encoded data removed]",
      "text/plain": [
       "<Figure size 432x288 with 1 Axes>"
      ]
     },
     "metadata": {
      "needs_background": "light"
     },
     "output_type": "display_data"
    }
   ],
   "source": [
    "# animation\n",
    "from matplotlib.animation import FuncAnimation\n",
    "import os\n",
    "\n",
    "# function update 1d wave over time\n",
    "\n",
    "fig,ax = plt.subplots()\n",
    "line, = ax.plot(x,density(psi_m00[0,:]))\n",
    "line2, = ax.plot(x, V0 , '--' ,color = 'r')\n",
    "txt = ax.text(-5.0 , 0.9 ,f'position <x> {round(get_position(psi_m00[0,:]),3).real} ', ha='left', va='center', fontsize=12, color=\"black\")\n",
    "plt.title(\"free particle\")\n",
    "plt.ylim(-1,1)\n",
    "\n",
    "def update(frame):\n",
    "    line.set_ydata(density(psi_m00[50 * frame,:]))\n",
    "    txt.set_text(f'position <x> {round(get_position(psi_m00[50 * frame,:]),3).real}')\n",
    "    return line, txt,\n",
    "\n",
    "\n",
    "\n",
    "#number of frames \n",
    "nframes = len(psi_m00) // 50\n",
    "\n",
    "ani = FuncAnimation(fig,update, frames = nframes, interval = 1, blit = True)\n",
    "\n",
    "\n",
    "# save animation\n",
    "file_format = 'gif'\n",
    "file_name = '1D TDSE v0.6.6'\n",
    "\n",
    "directory = '/Users/Admin/Desktop/senior/animation'\n",
    "output_file = os.path.join(directory, f'{file_name}.{file_format}')\n",
    "\n",
    "ani.save(output_file, writer='pillow', fps=15)\n",
    "\n",
    "plt.show()\n"
   ]
  },
  {
   "cell_type": "code",
   "execution_count": null,
   "metadata": {},
   "outputs": [],
   "source": []
  }
 ],
 "metadata": {
  "kernelspec": {
   "display_name": "Python 3",
   "language": "python",
   "name": "python3"
  },
  "language_info": {
   "codemirror_mode": {
    "name": "ipython",
    "version": 3
   },
   "file_extension": ".py",
   "mimetype": "text/x-python",
   "name": "python",
   "nbconvert_exporter": "python",
   "pygments_lexer": "ipython3",
   "version": "3.8.10"
  },
  "orig_nbformat": 4
 },
 "nbformat": 4,
 "nbformat_minor": 2
}
