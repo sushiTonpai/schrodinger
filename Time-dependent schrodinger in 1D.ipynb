{
 "cells": [
  {
   "attachments": {},
   "cell_type": "markdown",
   "metadata": {},
   "source": [
    "### TDSE: Time Dependent Schrodinger Equation 1D\n",
    "$$\n",
    "i\\hbar \\frac{d \\psi (x,t)}{dt} = \\frac{-\\hbar^2}{2m} \\frac{\\partial^2 \\psi (x,t)}{\\partial x} + V(x,t) \\psi (x,t)\n",
    "\\\\\n",
    "i\\frac{\\partial \\psi}{\\partial t'} = -\\frac{1}{2}\\frac{\\partial^2 \\psi}{\\partial x'^2 } + V'(x)\\psi\n",
    "$$\n",
    "#### Finite diferenece\n",
    "$$\n",
    "i\\frac{\\psi^{m+1}_{j} + \\psi^{m}_{j}}{\\Delta t} = -\\frac{1}{2} \\frac{\\psi^{m}_{j+1} -2\\psi^{m}_{j} + \\psi^{m}_{j-1}}{\\Delta x ^2} + V(x)\\psi^{m}_{j} \n",
    "$$\n",
    "$\\psi$ of next time step at the position $j$\n",
    "$$\n",
    "\\psi^{m+1}_{j} = \\psi^{m}_{j} + \\frac{i\\Delta t}{2\\Delta x^2}[\\psi^{m}_{j+1} -2\\psi^{m}_{j} + \\psi^{m}_{j-1}] -i\\Delta t V(x) \\psi^{m}_{j} \n",
    "$$"
   ]
  },
  {
   "attachments": {},
   "cell_type": "markdown",
   "metadata": {},
   "source": [
    "## Gauusian wave packets equation\n",
    "$\\hbar$ and $m = 1$\n",
    "$$\n",
    "\\psi_x(x,t = 0) = \\left(\\frac{1}{2\\pi\\sigma^2_x}\\right)^\\frac{1}{4} exp(ip_0x -\\frac{(x-x_0)^2}{4\\sigma^2_x})\n",
    "$$"
   ]
  },
  {
   "attachments": {},
   "cell_type": "markdown",
   "metadata": {},
   "source": [
    "## Position, Momentum and Energy\n",
    "### Operators\n",
    "$$\n",
    "\\braket{o} = \\int{}{} \\psi^* o \\psi dx \n",
    "$$\n",
    "position\n",
    "$$\n",
    "\\hat{x} = x\n",
    "$$\n",
    "linear momentum\n",
    "$$\n",
    "\\hat{p} = -i\\hbar\\frac{\\partial}{\\partial x}\n",
    "$$\n",
    "Energy\n",
    "$$\n",
    "\\hat{H} = -\\frac{\\hbar^2}{2m} \\frac{\\partial^2}{\\partial x^2} + V(x)\n",
    "$$\n"
   ]
  },
  {
   "cell_type": "code",
   "execution_count": 233,
   "metadata": {},
   "outputs": [],
   "source": [
    "# requirements and imports\n",
    "import numpy as np\n",
    "from matplotlib import pyplot as plt\n",
    "import scipy\n",
    "from scipy import sparse\n",
    "from scipy.sparse.linalg import eigsh\n",
    "from scipy.sparse.linalg import eigs\n"
   ]
  },
  {
   "cell_type": "code",
   "execution_count": 234,
   "metadata": {},
   "outputs": [],
   "source": [
    "# System parameters \n",
    "N = 101\n",
    "# positive length\n",
    "L = 5\n",
    "# grid\n",
    "x,dx = np.linspace(0,L, N , retstep= True)\n",
    "# time parameters\n",
    "T = 0.0001\n",
    "Nt = 10000\n",
    "dt = 1e-4"
   ]
  },
  {
   "cell_type": "code",
   "execution_count": 243,
   "metadata": {},
   "outputs": [],
   "source": [
    "# gaussain wave package generator\n",
    "def gen_gaussian(x,x0,sigma, p0):\n",
    "    A = (1 / (2 * np.pi * sigma**2))**(0.25)\n",
    "    B = np.exp((-(x-x0)**2) / ((4 * sigma)**2))\n",
    "    C = np.exp(1j*p0*x)\n",
    "    return A * B * C\n",
    "\n",
    "# standing wave generator\n",
    "def gen_sine(x, n):\n",
    "    A = np.sqrt(2/(L))\n",
    "    k = np.pi/(L)\n",
    "    return A * np.sin(n*k*x)\n",
    "\n",
    "# potential\n",
    "def V_2(x):\n",
    "    return 1/2 * x \n",
    "\n",
    "def V_free_particle(x):\n",
    "    return x * 0 \n",
    "\n",
    "def V_well(x):\n",
    "    mu ,sigma = 1/2 , 1/5\n",
    "    A = -1e2\n",
    "    return A*np.exp(-(x-mu)**2/(2*sigma**2))\n",
    "\n",
    "def V_harmonic(x):\n",
    "    k = 2\n",
    "    x0 = 2\n",
    "    return 1/2 * k * (x-x0)**2  -1\n",
    "\n",
    "def V_barrier(x,peak):\n",
    "    arr = x.copy()\n",
    "    arr[:] = 0 \n",
    "    left = int(len(x) * 1/2)\n",
    "    right = int(len(x) * (1/2 + 1/100)) \n",
    "    arr[left:right]  = peak\n",
    "    return arr\n",
    "\n",
    "def step(x,peak = 50):\n",
    "    arr = x.copy()\n",
    "    arr[:] = 0 \n",
    "    left = int(len(x) * 1/2)\n",
    "    arr[left:]  = peak\n",
    "    return arr\n",
    "\n",
    "# position operator\n",
    "def get_position(psi):\n",
    "    op_x = np.conj(psi) * x * psi\n",
    "    return scipy.integrate.simps(op_x,x)\n",
    "\n",
    "# momentum operator\n",
    "def get_momentum(psi):\n",
    "    op_p = np.conj(psi) * -1j * np.gradient(psi,1)\n",
    "    return  scipy.integrate.simps(op_p,x)\n",
    "\n",
    "# Energy \n",
    "def get_e(psi_mm):\n",
    "    diaa = np.array([-1,2,-1])\n",
    "    M = sparse.diags(diaa, np.array([-1,0,1]),shape = (N-2,N-2) ) \n",
    "    E = M * psi_mm[0,1:-1] / psi_mm[0,1:-1] / 2\n",
    "    return E[0].real\n",
    "\n",
    "# probability density\n",
    "def density(psi):\n",
    "    return psi * np.conj(psi)\n",
    "\n",
    "#normalize wave function\n",
    "def normalize(psi, x):\n",
    "    sum_psi_sq = scipy.integrate.simps(abs(psi)**2 , x)\n",
    "    return 1/np.sqrt(sum_psi_sq) * psi \n",
    "\n",
    "# compute psi[t+1] and normalise\n",
    "def get_psi(psi,V):\n",
    "    psi_next = np.zeros(N,dtype='cfloat')\n",
    "    for i in range(1,len(psi)-1):\n",
    "        # print(f'{psi[i]},{1j/2 * dt/dx**2 * (psi[i+1] - 2*psi[i] + psi[i-1])},{1j*dt*V(psi[i])*psi[i]}')\n",
    "        psi_next[i] = psi[i] + (1j/2 * dt/dx**2 * (psi[i+1] - 2*psi[i] + psi[i-1])) - (1j*dt*V[i]*psi[i])\n",
    "    psi_next = normalize(psi_next,x)\n",
    "    return psi_next\n",
    "\n",
    "# stack all psi[t] into big matrix\n",
    "def simulation(psi,V):\n",
    "    t = 0\n",
    "    psi_tot = psi.copy()\n",
    "    while t < Nt:\n",
    "        psi = get_psi(psi,V)\n",
    "        psi_tot = np.vstack((psi_tot,psi))\n",
    "        t = t + 1 \n",
    "\n",
    "    return psi_tot\n",
    "\n",
    "\n"
   ]
  },
  {
   "cell_type": "code",
   "execution_count": 237,
   "metadata": {},
   "outputs": [],
   "source": [
    "# psi0 as gaussian\n",
    "# psi = gen_gaussian(x, x0 = -2 , sigma = 1/5 , p0 = 20)\n",
    "# psi = normalize(psi,x)\n",
    "\n",
    "# psi0 as ground state\n",
    "psi0 = gen_sine(x,1)\n",
    "psi0 = normalize(psi0,x)\n",
    "\n",
    "#psi1 as 2nd ground state\n",
    "psi1 = gen_sine(x,2)\n",
    "psi1 = normalize(psi1,x)\n",
    "\n"
   ]
  },
  {
   "cell_type": "code",
   "execution_count": 238,
   "metadata": {},
   "outputs": [],
   "source": [
    "\n",
    "\n",
    "V0 = V_free_particle(x)\n",
    "psi_m00 = simulation(psi0.astype(complex),V0)\n",
    "psi_m01 = simulation(psi1.astype(complex),V0)\n",
    "\n"
   ]
  },
  {
   "cell_type": "code",
   "execution_count": 230,
   "metadata": {},
   "outputs": [
    {
     "data": {
      "text/plain": [
       "array([0.00049344+0.j, 0.00049344+0.j, 0.00049344+0.j, 0.00049344+0.j,\n",
       "       0.00049344+0.j, 0.00049344+0.j, 0.00049344+0.j, 0.00049344+0.j,\n",
       "       0.00049344+0.j, 0.00049344+0.j, 0.00049344+0.j, 0.00049344+0.j,\n",
       "       0.00049344+0.j, 0.00049344+0.j, 0.00049344+0.j, 0.00049344+0.j,\n",
       "       0.00049344+0.j, 0.00049344+0.j, 0.00049344+0.j, 0.00049344+0.j,\n",
       "       0.00049344+0.j, 0.00049344+0.j, 0.00049344+0.j, 0.00049344+0.j,\n",
       "       0.00049344+0.j, 0.00049344+0.j, 0.00049344+0.j, 0.00049344+0.j,\n",
       "       0.00049344+0.j, 0.00049344+0.j, 0.00049344+0.j, 0.00049344+0.j,\n",
       "       0.00049344+0.j, 0.00049344+0.j, 0.00049344+0.j, 0.00049344+0.j,\n",
       "       0.00049344+0.j, 0.00049344+0.j, 0.00049344+0.j, 0.00049344+0.j,\n",
       "       0.00049344+0.j, 0.00049344+0.j, 0.00049344+0.j, 0.00049344+0.j,\n",
       "       0.00049344+0.j, 0.00049344+0.j, 0.00049344+0.j, 0.00049344+0.j,\n",
       "       0.00049344+0.j, 0.00049344+0.j, 0.00049344+0.j, 0.00049344+0.j,\n",
       "       0.00049344+0.j, 0.00049344+0.j, 0.00049344+0.j, 0.00049344+0.j,\n",
       "       0.00049344+0.j, 0.00049344+0.j, 0.00049344+0.j, 0.00049344+0.j,\n",
       "       0.00049344+0.j, 0.00049344+0.j, 0.00049344+0.j, 0.00049344+0.j,\n",
       "       0.00049344+0.j, 0.00049344+0.j, 0.00049344+0.j, 0.00049344+0.j,\n",
       "       0.00049344+0.j, 0.00049344+0.j, 0.00049344+0.j, 0.00049344+0.j,\n",
       "       0.00049344+0.j, 0.00049344+0.j, 0.00049344+0.j, 0.00049344+0.j,\n",
       "       0.00049344+0.j, 0.00049344+0.j, 0.00049344+0.j, 0.00049344+0.j,\n",
       "       0.00049344+0.j, 0.00049344+0.j, 0.00049344+0.j, 0.00049344+0.j,\n",
       "       0.00049344+0.j, 0.00049344+0.j, 0.00049344+0.j, 0.00049344+0.j,\n",
       "       0.00049344+0.j, 0.00049344+0.j, 0.00049344+0.j, 0.00049344+0.j,\n",
       "       0.00049344+0.j, 0.00049344+0.j, 0.00049344+0.j, 0.00049344+0.j,\n",
       "       0.00049344+0.j, 0.00049344+0.j, 0.00049344+0.j])"
      ]
     },
     "execution_count": 230,
     "metadata": {},
     "output_type": "execute_result"
    }
   ],
   "source": [
    "\n"
   ]
  },
  {
   "cell_type": "code",
   "execution_count": 6,
   "metadata": {},
   "outputs": [
    {
     "name": "stderr",
     "output_type": "stream",
     "text": [
      "C:\\Users\\Admin\\AppData\\Local\\Packages\\PythonSoftwareFoundation.Python.3.8_qbz5n2kfra8p0\\LocalCache\\local-packages\\Python38\\site-packages\\matplotlib\\cbook\\__init__.py:1317: ComplexWarning: Casting complex values to real discards the imaginary part\n",
      "  return np.asarray(x, float)\n"
     ]
    },
    {
     "data": {
      "image/png": "[encoded data removed]",
      "text/plain": [
       "<Figure size 432x288 with 1 Axes>"
      ]
     },
     "metadata": {
      "needs_background": "light"
     },
     "output_type": "display_data"
    },
    {
     "name": "stdout",
     "output_type": "stream",
     "text": [
      "0.001 0.014142135623730952\n"
     ]
    }
   ],
   "source": [
    "plt.plot(x,density(psi), color = 'r')\n",
    "plt.plot(x,psi.real)\n",
    "plt.plot(x,psi.imag,'--')\n",
    "plt.plot(x,V0,color = 'Black')\n",
    "# plt.ylim(-1,1)\n",
    "# plt.plot(x,density(get_psi(psi)))\n",
    "plt.show()\n",
    "# plt.plot(V0)\n",
    "\n",
    "print(dt/dx , 1/100 * np.sqrt(2))\n"
   ]
  },
  {
   "cell_type": "code",
   "execution_count": 7,
   "metadata": {},
   "outputs": [
    {
     "name": "stderr",
     "output_type": "stream",
     "text": [
      "C:\\Users\\Admin\\AppData\\Local\\Packages\\PythonSoftwareFoundation.Python.3.8_qbz5n2kfra8p0\\LocalCache\\local-packages\\Python38\\site-packages\\matplotlib\\cbook\\__init__.py:1317: ComplexWarning: Casting complex values to real discards the imaginary part\n",
      "  return np.asarray(x, float)\n",
      "C:\\Users\\Admin\\AppData\\Local\\Packages\\PythonSoftwareFoundation.Python.3.8_qbz5n2kfra8p0\\LocalCache\\local-packages\\Python38\\site-packages\\matplotlib\\cbook\\__init__.py:1317: ComplexWarning: Casting complex values to real discards the imaginary part\n",
      "  return np.asarray(x, float)\n"
     ]
    },
    {
     "data": {
      "text/plain": [
       "(10001, 101)"
      ]
     },
     "execution_count": 7,
     "metadata": {},
     "output_type": "execute_result"
    },
    {
     "data": {
      "image/png": "[encoded data removed]",
      "text/plain": [
       "<Figure size 432x288 with 1 Axes>"
      ]
     },
     "metadata": {
      "needs_background": "light"
     },
     "output_type": "display_data"
    }
   ],
   "source": [
    "plt.plot(x,density(psi_m00[0]) , 'r')\n",
    "plt.plot(x,density(psi_m00[-1]))\n",
    "# plt.plot(x,psi_m00.real[-1])\n",
    "# plt.plot(x,psi_m00[0])\n",
    "# plt.plot(x,psi_m00[-1])\n",
    "\n",
    "# t1  = 1j * (psi_m00[0] + psi_m00[1]) / dt \n",
    "# t2 =  -1/2 * ( psi_m00[1] - 2*psi_m00[0]) / dx**2\n",
    "\n",
    "# t1-t2 < 1e-4\n",
    "\n",
    "psi_m00.dtype\n",
    "psi_m00.shape"
   ]
  },
  {
   "cell_type": "code",
   "execution_count": 23,
   "metadata": {},
   "outputs": [
    {
     "name": "stderr",
     "output_type": "stream",
     "text": [
      "C:\\Users\\Admin\\AppData\\Local\\Temp/ipykernel_22916/663953017.py:1: DeprecationWarning: The Python built-in `round` is deprecated for complex scalars, and will raise a `TypeError` in a future release. Use `np.round` or `scalar.round` instead.\n",
      "  round(get_momentum(psi_m00[0,:]),3)\n"
     ]
    },
    {
     "data": {
      "text/plain": [
       "(-0.902-0j)"
      ]
     },
     "execution_count": 23,
     "metadata": {},
     "output_type": "execute_result"
    }
   ],
   "source": []
  },
  {
   "cell_type": "code",
   "execution_count": 242,
   "metadata": {},
   "outputs": [
    {
     "name": "stderr",
     "output_type": "stream",
     "text": [
      "C:\\Users\\Admin\\AppData\\Local\\Packages\\PythonSoftwareFoundation.Python.3.8_qbz5n2kfra8p0\\LocalCache\\local-packages\\Python38\\site-packages\\matplotlib\\cbook\\__init__.py:1317: ComplexWarning: Casting complex values to real discards the imaginary part\n",
      "  return np.asarray(x, float)\n",
      "C:\\Users\\Admin\\AppData\\Local\\Temp/ipykernel_13424/2117259026.py:16: DeprecationWarning: The Python built-in `round` is deprecated for complex scalars, and will raise a `TypeError` in a future release. Use `np.round` or `scalar.round` instead.\n",
      "  return f'position <x> {round(get_position(psi_mm[sframe,:]),3).real}'\n",
      "C:\\Users\\Admin\\AppData\\Local\\Temp/ipykernel_13424/2117259026.py:18: DeprecationWarning: The Python built-in `round` is deprecated for complex scalars, and will raise a `TypeError` in a future release. Use `np.round` or `scalar.round` instead.\n",
      "  return f'momentum <p> {round(get_momentum(psi_mm[sframe,:]),3).real}'\n",
      "C:\\Users\\Admin\\AppData\\Local\\Temp/ipykernel_13424/2117259026.py:16: DeprecationWarning: The Python built-in `round` is deprecated for complex scalars, and will raise a `TypeError` in a future release. Use `np.round` or `scalar.round` instead.\n",
      "  return f'position <x> {round(get_position(psi_mm[sframe,:]),3).real}'\n",
      "C:\\Users\\Admin\\AppData\\Local\\Temp/ipykernel_13424/2117259026.py:18: DeprecationWarning: The Python built-in `round` is deprecated for complex scalars, and will raise a `TypeError` in a future release. Use `np.round` or `scalar.round` instead.\n",
      "  return f'momentum <p> {round(get_momentum(psi_mm[sframe,:]),3).real}'\n",
      "C:\\Users\\Admin\\AppData\\Local\\Packages\\PythonSoftwareFoundation.Python.3.8_qbz5n2kfra8p0\\LocalCache\\local-packages\\Python38\\site-packages\\matplotlib\\cbook\\__init__.py:1317: ComplexWarning: Casting complex values to real discards the imaginary part\n",
      "  return np.asarray(x, float)\n"
     ]
    },
    {
     "data": {
      "image/png": "[encoded data removed]",
      "text/plain": [
       "<Figure size 432x288 with 1 Axes>"
      ]
     },
     "metadata": {
      "needs_background": "light"
     },
     "output_type": "display_data"
    }
   ],
   "source": [
    "# animation\n",
    "from matplotlib.animation import FuncAnimation\n",
    "import os\n",
    "# method used\n",
    "psi_mm = psi_m01\n",
    "\n",
    "#calculate E\n",
    "E = get_e(psi_mm)\n",
    "\n",
    " \n",
    "# function update 1d wave over time\n",
    "fig,ax = plt.subplots()\n",
    "line, = ax.plot(x,density(psi_mm[0,:]))\n",
    "line2, = ax.plot(x, V0 , '--' ,color = 'r')\n",
    "def text_pos(sframe):\n",
    "    return f'position <x> {round(get_position(psi_mm[sframe,:]),3).real}'\n",
    "def text_momentum(sframe):\n",
    "    return f'momentum <p> {round(get_momentum(psi_mm[sframe,:]),3).real}'\n",
    "def text_energy():\n",
    "    return f'energy E {E}'\n",
    "txt = ax.text(0 , 0.85 ,f'{text_pos(0)} \\n{text_momentum(0)} \\n{text_energy()}', ha='left', va='center', fontsize=12, color=\"black\")\n",
    "plt.title(\"free particle\")\n",
    "plt.ylim(-1,1)\n",
    "\n",
    "def update(frame):\n",
    "    line.set_ydata(density(psi_mm[50 * frame,:]))\n",
    "    txt.set_text(f'{text_pos(50*frame)} \\n{text_momentum(50*frame)} \\n{text_energy()}')\n",
    "    return line, txt,\n",
    "\n",
    "\n",
    "\n",
    "#number of frames \n",
    "nframes = len(psi_mm) // 50\n",
    "\n",
    "ani = FuncAnimation(fig,update, frames = nframes, interval = 1, blit = True)\n",
    "\n",
    "\n",
    "# save animation\n",
    "file_format = 'gif'\n",
    "file_name = '1D TDSE v1.1'\n",
    "\n",
    "directory = '/Users/Admin/Desktop/senior/animation'\n",
    "output_file = os.path.join(directory, f'{file_name}.{file_format}')\n",
    "\n",
    "ani.save(output_file, writer='pillow', fps=15)\n",
    "\n",
    "plt.show()\n"
   ]
  },
  {
   "cell_type": "code",
   "execution_count": 246,
   "metadata": {},
   "outputs": [
    {
     "data": {
      "text/plain": [
       "3.999013120731215"
      ]
     },
     "execution_count": 246,
     "metadata": {},
     "output_type": "execute_result"
    }
   ],
   "source": [
    "# comparing Es \n",
    "get_e(psi_m01) / get_e(psi_m00)\n",
    "\n"
   ]
  }
 ],
 "metadata": {
  "kernelspec": {
   "display_name": "Python 3",
   "language": "python",
   "name": "python3"
  },
  "language_info": {
   "codemirror_mode": {
    "name": "ipython",
    "version": 3
   },
   "file_extension": ".py",
   "mimetype": "text/x-python",
   "name": "python",
   "nbconvert_exporter": "python",
   "pygments_lexer": "ipython3",
   "version": "3.8.10"
  },
  "orig_nbformat": 4
 },
 "nbformat": 4,
 "nbformat_minor": 2
}
